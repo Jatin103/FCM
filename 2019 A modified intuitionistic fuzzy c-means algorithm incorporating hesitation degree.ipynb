{
 "cells": [
  {
   "cell_type": "code",
   "execution_count": 11,
   "metadata": {},
   "outputs": [
    {
     "name": "stdout",
     "output_type": "stream",
     "text": [
      "Populating the interactive namespace from numpy and matplotlib\n"
     ]
    },
    {
     "data": {
      "text/plain": [
       "{'divide': 'warn', 'over': 'warn', 'under': 'ignore', 'invalid': 'warn'}"
      ]
     },
     "execution_count": 11,
     "metadata": {},
     "output_type": "execute_result"
    }
   ],
   "source": [
    "%pylab inline\n",
    "import matplotlib.pyplot as plt \n",
    "import numpy as np\n",
    "import cv2\n",
    "np.seterr(all='raise')"
   ]
  },
  {
   "cell_type": "code",
   "execution_count": 12,
   "metadata": {},
   "outputs": [],
   "source": [
    "def nd(l):\n",
    "    return np.array(l,dtype=float)\n",
    "def Vis(U):\n",
    "# Visualizing A Cluster\n",
    "    img=U/U.max()\n",
    "    img=(img*255).astype(int)\n",
    "    plt.imshow(img,cmap='gray')\n",
    "    plt.show()\n",
    "    return img\n",
    "def VisCrisp(U):\n",
    "    img=(U==numpy.amax(U,axis=(0)))*255\n",
    "    Map=[]\n",
    "    for Map in img:\n",
    "        Map.append(Vis(Map))\n",
    "    return Map"
   ]
  },
  {
   "cell_type": "code",
   "execution_count": 13,
   "metadata": {
    "scrolled": true
   },
   "outputs": [],
   "source": [
    "def normalizeImage(img):\n",
    "    minPx,maxPx=img.min(),img.max()\n",
    "    NormalizedImg = (img-minPx)/(maxPx-minPx)\n",
    "    return NormalizedImg"
   ]
  },
  {
   "cell_type": "code",
   "execution_count": 42,
   "metadata": {},
   "outputs": [],
   "source": [
    "def sugenoNeg(mu,b=0.7):\n",
    "    return (1-mu)/(1+b*mu)\n",
    "\n",
    "def randomUMatGen(clusters,img_shape):\n",
    "    #U is the Uij matrix\n",
    "    U = np.random.rand(clusters,img_shape[0],img_shape[1])\n",
    "    U = U / U.sum(axis=0)\n",
    "    return U\n",
    "\n",
    "def UpCen(U,x):\n",
    "    return ((U*x).sum(axis=(1,2))) / (U.sum(axis=(1,2)))\n",
    "\n",
    "def getCentroids(X,U,m=2):\n",
    "    U=1-sugenoNeg(U)\n",
    "    muS= UpCen(np.power(U,m),X[0])\n",
    "    nuS= UpCen(np.power(U,m),X[1])\n",
    "    piS= UpCen(np.power(U,m),X[2])\n",
    "    V = np.array([muS,nuS,piS])\n",
    "    return V\n",
    "\n",
    "def d2(X,Y):\n",
    "    return (np.power(X-Y,2)).sum(axis=0)\n",
    "\n",
    "def updateMatU(X,V,m):\n",
    "    delta = float(\"0.1e-7\")\n",
    "    D2=d2(X[:,np.newaxis,:,:],V[:,:,np.newaxis,np.newaxis])+delta\n",
    "    D2=np.power(D2,-1/(m-1))\n",
    "    D2=D2/D2.sum(axis=0)\n",
    "    return D2"
   ]
  },
  {
   "cell_type": "code",
   "execution_count": 30,
   "metadata": {},
   "outputs": [],
   "source": [
    "def fcm(mu,m=2,c=4,e=0.0001,maxIter=400):\n",
    "    nu=sugenoNeg(mu)\n",
    "    X=np.array([mu,nu,1-mu-nu])\n",
    "    U=randomUMatGen(c,mu.shape)\n",
    "    V=getCentroids(X,U)\n",
    "\n",
    "    ind=1\n",
    "    U_prev=zeros_like(U)\n",
    "    \n",
    "    while ind<maxIter:\n",
    "        if (np.absolute(U-U_prev)).max() < e:\n",
    "            break\n",
    "        U_prev=U\n",
    "        U=updateMatU(X,V,m)\n",
    "        V=getCentroids(X,U)\n",
    "        ind+=1\n",
    "    print(ind)\n",
    "    return U[ind%2],V    "
   ]
  },
  {
   "cell_type": "code",
   "execution_count": 16,
   "metadata": {},
   "outputs": [],
   "source": [
    "def printImg(img):\n",
    "    plt.imshow(img,cmap='gray')\n",
    "    plt.show()\n",
    "    \n",
    "def GetImg(FileName):\n",
    "    import os\n",
    "    cwd = os.getcwd()\n",
    "    img = cv2.imread(cwd+'\\\\Img\\\\'+FileName, cv2.IMREAD_GRAYSCALE)\n",
    "    return img\n",
    "\n",
    "def GetMap(U):\n",
    "    Map=(U==numpy.amax(U,axis=(0))).astype(int)\n",
    "    return Map\n",
    "\n",
    "def GetGroundTurthMaps(FileName='NewImg2.tiff'):\n",
    "    import os\n",
    "    cwd = os.getcwd()\n",
    "    img1 = GetImg(FileName)\n",
    "    uniq=np.unique(img1)\n",
    "    uniq.sort()\n",
    "    Map=[]\n",
    "    for i in range(uniq.size):\n",
    "        Map.append(img1==uniq[i])\n",
    "    return nd(Map),uniq,img1\n",
    "\n",
    "def GetResMaps(res,getGrndTruth=0):\n",
    "    img=GetImg('NewImg2.tiff')\n",
    "    Maps=GetMap(res[0])\n",
    "    Maps=nd(Maps)\n",
    "    Avg=nd([(img*Map).sum()/Map.sum() for Map in Maps])\n",
    "    Ord=numpy.argsort(Avg)\n",
    "    Maps=Maps[Ord]\n",
    "    #Maps=Maps*Inten[:,np.newaxis,np.newaxis] #To get the colored resultant\n",
    "    return Maps"
   ]
  },
  {
   "cell_type": "code",
   "execution_count": 38,
   "metadata": {},
   "outputs": [],
   "source": [
    "def DiceScore(G,R):\n",
    "    intersectionPx=2*(G*R).sum(axis=(1,2))\n",
    "    return intersectionPx/(G+R).sum(axis=(1,2))\n",
    "def AvgSegAcc(G,R):\n",
    "    intersectionPx=(G*R).sum()\n",
    "    return intersectionPx/G.sum()\n",
    "def Scores(G,R):\n",
    "    return DiceScore(G,R),AvgSegAcc(G,R)\n",
    "\n",
    "def GetScores(FileName,G,printResMap=1):\n",
    "    res=fcm(GetImg(FileName),maxIter=1000,e=0.00001)\n",
    "    R=GetResMaps(res)\n",
    "    if printResMap:\n",
    "        for seg in R:\n",
    "            printImg(seg)\n",
    "    return Scores(G,R)\n",
    "\n",
    "def GetAllImgScores(printResMap=0):\n",
    "    import os\n",
    "    path = os.getcwd()+'\\\\Img'\n",
    "    Files=os.listdir(path)\n",
    "    G,a,b=GetGroundTurthMaps()\n",
    "    FilesScr={}\n",
    "    for file in Files:\n",
    "        FilesScr[file]=GetScores(file,G,printResMap)\n",
    "        #print(FilesScr[file])\n",
    "    return FilesScr"
   ]
  },
  {
   "cell_type": "code",
   "execution_count": 34,
   "metadata": {
    "scrolled": true
   },
   "outputs": [
    {
     "name": "stdout",
     "output_type": "stream",
     "text": [
      "14\n",
      "21\n",
      "63\n",
      "36\n",
      "37\n"
     ]
    },
    {
     "data": {
      "text/plain": [
       "{'NewImg2.tiff': (array([1., 1., 1., 1.]), 1.0),\n",
       " 'NewImg2_0_001.tiff': (array([0.54681491, 0.75094977, 0.99856841, 0.99980823]),\n",
       "  0.9319705513784461),\n",
       " 'NewImg2_0_002.tiff': (array([0.74034283, 0.99652405, 0.81549464, 0.99248061]),\n",
       "  0.9448517126148706),\n",
       " 'NewImg2_0_003.tiff': (array([0.59756386, 0.75673012, 0.87332725, 0.9750173 ]),\n",
       "  0.9029291979949875),\n",
       " 'NewImg2_0_004.tiff': (array([0.61448715, 0.75969023, 0.728872  , 0.93157434]),\n",
       "  0.8509346282372598)}"
      ]
     },
     "execution_count": 34,
     "metadata": {},
     "output_type": "execute_result"
    }
   ],
   "source": [
    "GetAllImgScores()"
   ]
  },
  {
   "cell_type": "code",
   "execution_count": 39,
   "metadata": {},
   "outputs": [
    {
     "name": "stdout",
     "output_type": "stream",
     "text": [
      "12\n",
      "34\n",
      "26\n",
      "42\n",
      "46\n"
     ]
    },
    {
     "data": {
      "text/plain": [
       "{'NewImg2.tiff': (array([1., 1., 1., 1.]), 1.0),\n",
       " 'NewImg2_0_001.tiff': (array([0.7682551 , 1.        , 0.85588704, 0.99980823]),\n",
       "  0.9589129072681705),\n",
       " 'NewImg2_0_002.tiff': (array([0.58133661, 0.75634944, 0.96208531, 0.99367554]),\n",
       "  0.9264306599832915),\n",
       " 'NewImg2_0_003.tiff': (array([0.59756386, 0.75673012, 0.87332725, 0.9750173 ]),\n",
       "  0.9029291979949875),\n",
       " 'NewImg2_0_004.tiff': (array([0.61448715, 0.75969023, 0.728872  , 0.93157434]),\n",
       "  0.8509346282372598)}"
      ]
     },
     "execution_count": 39,
     "metadata": {},
     "output_type": "execute_result"
    }
   ],
   "source": [
    "GetAllImgScores()"
   ]
  },
  {
   "cell_type": "code",
   "execution_count": 40,
   "metadata": {},
   "outputs": [
    {
     "name": "stdout",
     "output_type": "stream",
     "text": [
      "15\n",
      "32\n",
      "27\n",
      "42\n",
      "63\n"
     ]
    },
    {
     "data": {
      "text/plain": [
       "{'NewImg2.tiff': (array([1., 1., 1., 1.]), 1.0),\n",
       " 'NewImg2_0_001.tiff': (array([0.7682551 , 1.        , 0.85588704, 0.99980823]),\n",
       "  0.9589129072681705),\n",
       " 'NewImg2_0_002.tiff': (array([0.58133661, 0.75634944, 0.96208531, 0.99367554]),\n",
       "  0.9264306599832915),\n",
       " 'NewImg2_0_003.tiff': (array([0.59756386, 0.75673012, 0.87332725, 0.9750173 ]),\n",
       "  0.9029291979949875),\n",
       " 'NewImg2_0_004.tiff': (array([0.61448715, 0.75969023, 0.728872  , 0.93157434]),\n",
       "  0.8509346282372598)}"
      ]
     },
     "execution_count": 40,
     "metadata": {},
     "output_type": "execute_result"
    }
   ],
   "source": [
    "GetAllImgScores()"
   ]
  },
  {
   "cell_type": "code",
   "execution_count": 43,
   "metadata": {},
   "outputs": [
    {
     "name": "stdout",
     "output_type": "stream",
     "text": [
      "14\n",
      "36\n",
      "29\n",
      "44\n",
      "45\n"
     ]
    },
    {
     "data": {
      "text/plain": [
       "{'NewImg2.tiff': (array([1., 1., 1., 1.]), 1.0),\n",
       " 'NewImg2_0_001.tiff': (array([0.7682551 , 1.        , 0.85588704, 0.99980823]),\n",
       "  0.9589129072681705),\n",
       " 'NewImg2_0_002.tiff': (array([0.58133661, 0.75634944, 0.96208531, 0.99367554]),\n",
       "  0.9264306599832915),\n",
       " 'NewImg2_0_003.tiff': (array([0.59756386, 0.75673012, 0.87332725, 0.9750173 ]),\n",
       "  0.9029291979949875),\n",
       " 'NewImg2_0_004.tiff': (array([0.61448715, 0.75969023, 0.728872  , 0.93157434]),\n",
       "  0.8509346282372598)}"
      ]
     },
     "execution_count": 43,
     "metadata": {},
     "output_type": "execute_result"
    }
   ],
   "source": [
    "GetAllImgScores()"
   ]
  },
  {
   "cell_type": "code",
   "execution_count": 44,
   "metadata": {},
   "outputs": [
    {
     "name": "stdout",
     "output_type": "stream",
     "text": [
      "13\n",
      "33\n",
      "31\n",
      "32\n",
      "50\n"
     ]
    },
    {
     "data": {
      "text/plain": [
       "{'NewImg2.tiff': (array([1., 1., 1., 1.]), 1.0),\n",
       " 'NewImg2_0_001.tiff': (array([0.54681491, 0.75094977, 0.99856841, 0.99980823]),\n",
       "  0.9319705513784461),\n",
       " 'NewImg2_0_002.tiff': (array([0.58133661, 0.75634944, 0.96208531, 0.99367554]),\n",
       "  0.9264306599832915),\n",
       " 'NewImg2_0_003.tiff': (array([0.59756386, 0.75673012, 0.87332725, 0.9750173 ]),\n",
       "  0.9029291979949875),\n",
       " 'NewImg2_0_004.tiff': (array([0.61448715, 0.75969023, 0.728872  , 0.93157434]),\n",
       "  0.8509346282372598)}"
      ]
     },
     "execution_count": 44,
     "metadata": {},
     "output_type": "execute_result"
    }
   ],
   "source": [
    "GetAllImgScores()"
   ]
  },
  {
   "cell_type": "code",
   "execution_count": 45,
   "metadata": {},
   "outputs": [
    {
     "name": "stdout",
     "output_type": "stream",
     "text": [
      "11\n",
      "33\n",
      "28\n",
      "41\n",
      "44\n"
     ]
    },
    {
     "data": {
      "text/plain": [
       "{'NewImg2.tiff': (array([1., 1., 1., 1.]), 1.0),\n",
       " 'NewImg2_0_001.tiff': (array([0.7682551 , 1.        , 0.85588704, 0.99980823]),\n",
       "  0.9589129072681705),\n",
       " 'NewImg2_0_002.tiff': (array([0.58133661, 0.75634944, 0.96208531, 0.99367554]),\n",
       "  0.9264306599832915),\n",
       " 'NewImg2_0_003.tiff': (array([0.59756386, 0.75673012, 0.87332725, 0.9750173 ]),\n",
       "  0.9029291979949875),\n",
       " 'NewImg2_0_004.tiff': (array([0.61448715, 0.75969023, 0.728872  , 0.93157434]),\n",
       "  0.8509346282372598)}"
      ]
     },
     "execution_count": 45,
     "metadata": {},
     "output_type": "execute_result"
    }
   ],
   "source": [
    "GetAllImgScores()"
   ]
  },
  {
   "cell_type": "code",
   "execution_count": 46,
   "metadata": {},
   "outputs": [
    {
     "name": "stdout",
     "output_type": "stream",
     "text": [
      "12\n",
      "33\n",
      "29\n",
      "31\n",
      "46\n"
     ]
    },
    {
     "data": {
      "text/plain": [
       "{'NewImg2.tiff': (array([1., 1., 1., 1.]), 1.0),\n",
       " 'NewImg2_0_001.tiff': (array([0.54681491, 0.75094977, 0.99856841, 0.99980823]),\n",
       "  0.9319705513784461),\n",
       " 'NewImg2_0_002.tiff': (array([0.58133661, 0.75634944, 0.96208531, 0.99367554]),\n",
       "  0.9264306599832915),\n",
       " 'NewImg2_0_003.tiff': (array([0.59756386, 0.75673012, 0.87332725, 0.9750173 ]),\n",
       "  0.9029291979949875),\n",
       " 'NewImg2_0_004.tiff': (array([0.61448715, 0.75969023, 0.728872  , 0.93157434]),\n",
       "  0.8509346282372598)}"
      ]
     },
     "execution_count": 46,
     "metadata": {},
     "output_type": "execute_result"
    }
   ],
   "source": [
    "GetAllImgScores()"
   ]
  },
  {
   "cell_type": "code",
   "execution_count": 47,
   "metadata": {},
   "outputs": [
    {
     "name": "stdout",
     "output_type": "stream",
     "text": [
      "13\n",
      "25\n",
      "20\n",
      "40\n",
      "52\n"
     ]
    },
    {
     "data": {
      "text/plain": [
       "{'NewImg2.tiff': (array([1., 1., 1., 1.]), 1.0),\n",
       " 'NewImg2_0_001.tiff': (array([0.54681491, 0.75094977, 0.99856841, 0.99980823]),\n",
       "  0.9319705513784461),\n",
       " 'NewImg2_0_002.tiff': (array([0.58133661, 0.75634944, 0.96208531, 0.99367554]),\n",
       "  0.9264306599832915),\n",
       " 'NewImg2_0_003.tiff': (array([0.59756386, 0.75673012, 0.87332725, 0.9750173 ]),\n",
       "  0.9029291979949875),\n",
       " 'NewImg2_0_004.tiff': (array([0.61448715, 0.75969023, 0.728872  , 0.93157434]),\n",
       "  0.8509346282372598)}"
      ]
     },
     "execution_count": 47,
     "metadata": {},
     "output_type": "execute_result"
    }
   ],
   "source": [
    "GetAllImgScores()"
   ]
  },
  {
   "cell_type": "code",
   "execution_count": 48,
   "metadata": {},
   "outputs": [
    {
     "name": "stdout",
     "output_type": "stream",
     "text": [
      "12\n",
      "24\n",
      "37\n",
      "65\n",
      "46\n"
     ]
    },
    {
     "data": {
      "text/plain": [
       "{'NewImg2.tiff': (array([1., 1., 1., 1.]), 1.0),\n",
       " 'NewImg2_0_001.tiff': (array([0.54681491, 0.75094977, 0.99856841, 0.99980823]),\n",
       "  0.9319705513784461),\n",
       " 'NewImg2_0_002.tiff': (array([0.58133661, 0.75634944, 0.96208531, 0.99367554]),\n",
       "  0.9264306599832915),\n",
       " 'NewImg2_0_003.tiff': (array([0.70318396, 0.77650442, 0.8547523 , 0.97120069]),\n",
       "  0.9073673767752715),\n",
       " 'NewImg2_0_004.tiff': (array([0.61448715, 0.75969023, 0.728872  , 0.93157434]),\n",
       "  0.8509346282372598)}"
      ]
     },
     "execution_count": 48,
     "metadata": {},
     "output_type": "execute_result"
    }
   ],
   "source": [
    "GetAllImgScores()"
   ]
  },
  {
   "cell_type": "code",
   "execution_count": 49,
   "metadata": {},
   "outputs": [
    {
     "name": "stdout",
     "output_type": "stream",
     "text": [
      "12\n",
      "29\n",
      "22\n",
      "50\n",
      "60\n"
     ]
    },
    {
     "data": {
      "text/plain": [
       "{'NewImg2.tiff': (array([1., 1., 1., 1.]), 1.0),\n",
       " 'NewImg2_0_001.tiff': (array([0.54681491, 0.75094977, 0.99856841, 0.99980823]),\n",
       "  0.9319705513784461),\n",
       " 'NewImg2_0_002.tiff': (array([0.58133661, 0.75634944, 0.96208531, 0.99367554]),\n",
       "  0.9264306599832915),\n",
       " 'NewImg2_0_003.tiff': (array([0.59756386, 0.75673012, 0.87332725, 0.9750173 ]),\n",
       "  0.9029291979949875),\n",
       " 'NewImg2_0_004.tiff': (array([0.61448715, 0.75969023, 0.728872  , 0.93157434]),\n",
       "  0.8509346282372598)}"
      ]
     },
     "execution_count": 49,
     "metadata": {},
     "output_type": "execute_result"
    }
   ],
   "source": [
    "GetAllImgScores()"
   ]
  },
  {
   "cell_type": "code",
   "execution_count": null,
   "metadata": {},
   "outputs": [],
   "source": []
  }
 ],
 "metadata": {
  "kernelspec": {
   "display_name": "Python 3",
   "language": "python",
   "name": "python3"
  },
  "language_info": {
   "codemirror_mode": {
    "name": "ipython",
    "version": 3
   },
   "file_extension": ".py",
   "mimetype": "text/x-python",
   "name": "python",
   "nbconvert_exporter": "python",
   "pygments_lexer": "ipython3",
   "version": "3.7.3"
  }
 },
 "nbformat": 4,
 "nbformat_minor": 2
}
