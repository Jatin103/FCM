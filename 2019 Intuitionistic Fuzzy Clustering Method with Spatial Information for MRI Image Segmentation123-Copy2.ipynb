{
 "cells": [
  {
   "cell_type": "code",
   "execution_count": 1,
   "metadata": {},
   "outputs": [
    {
     "name": "stdout",
     "output_type": "stream",
     "text": [
      "Populating the interactive namespace from numpy and matplotlib\n"
     ]
    },
    {
     "data": {
      "text/plain": [
       "{'divide': 'warn', 'over': 'warn', 'under': 'ignore', 'invalid': 'warn'}"
      ]
     },
     "execution_count": 1,
     "metadata": {},
     "output_type": "execute_result"
    }
   ],
   "source": [
    "%pylab inline\n",
    "import matplotlib.pyplot as plt \n",
    "import numpy as np\n",
    "import cv2\n",
    "np.seterr(all='raise')"
   ]
  },
  {
   "cell_type": "code",
   "execution_count": 2,
   "metadata": {},
   "outputs": [],
   "source": [
    "def nd(l):\n",
    "    return np.array(l,dtype=float)\n",
    "def Vis(U):\n",
    "# Visualizing A Cluster\n",
    "    img=U/U.max()\n",
    "    img=(img*255).astype(int)\n",
    "    plt.imshow(img,cmap='gray')\n",
    "    plt.show()\n",
    "def VisCrisp(U):\n",
    "    img=(U==numpy.amax(U,axis=(0)))*255\n",
    "    for Map in img:\n",
    "        Vis(Map)"
   ]
  },
  {
   "cell_type": "code",
   "execution_count": 3,
   "metadata": {
    "scrolled": true
   },
   "outputs": [],
   "source": [
    "def normalizeImage(img):\n",
    "    minPx,maxPx=img.min(),img.max()\n",
    "    NormalizedImg = (img-minPx)/(maxPx-minPx)\n",
    "    return NormalizedImg"
   ]
  },
  {
   "cell_type": "code",
   "execution_count": 4,
   "metadata": {},
   "outputs": [],
   "source": [
    "from scipy.signal import convolve2d\n",
    "def conv(Mat,ngb):\n",
    "    if ngb==0:\n",
    "        return Mat\n",
    "    ngbhd=2*ngb+1\n",
    "    Filter=np.ones((ngbhd, ngbhd))\n",
    "    Filter[ngb,ngb]=0\n",
    "    if len(Mat.shape) == 2:\n",
    "        return convolve2d(Mat, Filter, mode='same', boundary='fill', fillvalue=0)\n",
    "    for i in range(Mat.shape[0]):\n",
    "        Mat[i]=convolve2d(Mat[i], Filter, mode='same', boundary='fill', fillvalue=0)\n",
    "    return Mat\n",
    "\n",
    "def SNI(U,D2,ngb):\n",
    "    return conv(U*D2,ngb)/conv(U,ngb)\n",
    "\n",
    "def NebTerm(U,x,ngb):\n",
    "    return conv(U*x,ngb)/conv(U,ngb)"
   ]
  },
  {
   "cell_type": "code",
   "execution_count": 5,
   "metadata": {},
   "outputs": [],
   "source": [
    "def sugenoNeg(mu,b=0.7):\n",
    "    return (1-mu)/(1+b*mu)\n",
    "\n",
    "def randomUMatGen(clusters,img_shape):\n",
    "    #U is the Uij matrix\n",
    "    U = np.random.rand(clusters,img_shape[0],img_shape[1])\n",
    "    U = U / U.sum(axis=0)\n",
    "    return U\n",
    "\n",
    "def randomBMatGen(img_shape):\n",
    "    #B is the bias matrix\n",
    "    B = np.random.rand(img_shape[0],img_shape[1])/1000000\n",
    "    return B\n",
    "\n",
    "def UpCen(U,x,alpha,ngb,m):\n",
    "    T=x+alpha*NebTerm(U,x,ngb)\n",
    "    #Um=putEps(np.power(U,m))\n",
    "    Um=np.power(U,m)\n",
    "    return (Um*T).sum(axis=(1,2)) / (Um.sum(axis=(1,2)) * (1+alpha) )\n",
    "\n",
    "def getCentroids(X,U,alpha,ngb,m=2):\n",
    "    #U=1-sugenoNeg(U)\n",
    "    V= UpCen(U,X,alpha,ngb,m)\n",
    "    return V\n",
    "\n",
    "def d2(X,Y):\n",
    "    return (np.power(X-Y,2))\n",
    "\n",
    "def updateMatU(X,V,U,alpha,ngb,m):\n",
    "    delta = float(\"0.1e-7\")\n",
    "    D2=d2(X[np.newaxis,:,:],V[:,np.newaxis,np.newaxis])\n",
    "    D2=D2+SNI(U,D2,ngb)+delta\n",
    "    D2=np.power(D2,-1/(m-1))\n",
    "    D2=D2/D2.sum(axis=0)\n",
    "    #D2=putEps(D2)\n",
    "    return D2\n",
    "\n",
    "from scipy import ndimage\n",
    "def GaussianSmoothing(Img,sigma=0.01):\n",
    "    return ndimage.filters.gaussian_filter(Img, sigma, mode='constant')\n",
    "\n",
    "\n",
    "def getB(X,U,V,Alpha,m,ngb):\n",
    "    Um=np.power(U,m)\n",
    "    #Um=putEps(Um)\n",
    "    Beta=Um+Alpha*conv(Um,ngb)\n",
    "    T1=(Beta*V[:,np.newaxis,np.newaxis]).sum(axis=0)/(Beta.sum(axis=0))\n",
    "    T1=2*(X-T1)\n",
    "    T1=T1.sum()\n",
    "    T2=1/Beta.sum(axis=0)\n",
    "    T2=T2.sum()\n",
    "    Lambda=T1/T2\n",
    "    #Lambda=putEps(Lambda)\n",
    "    B1= (Beta*V[:,np.newaxis,np.newaxis]).sum(axis=0) + Lambda/2\n",
    "    B1=B1/(Beta.sum(axis=0))\n",
    "    B=X-B1\n",
    "    return GaussianSmoothing(B)"
   ]
  },
  {
   "cell_type": "code",
   "execution_count": 13,
   "metadata": {},
   "outputs": [],
   "source": [
    "def fcm(mu,alpha=0.2,ngb=1,m=2,c=4,e=0.0001,maxIter=400):\n",
    "    X=nd(mu)\n",
    "    U=randomUMatGen(c,mu.shape)\n",
    "    V=getCentroids(X,U,alpha,ngb,m)\n",
    "    B=randomBMatGen(X.shape)\n",
    "    B=0*B\n",
    "\n",
    "    ind=1\n",
    "    U_prev=zeros_like(U)\n",
    "    while ind<maxIter:\n",
    "        if (np.absolute(U-U_prev)).max() < e:\n",
    "            break\n",
    "        U_prev=U    \n",
    "        U=updateMatU(X-B,V,U,alpha,ngb,m)\n",
    "        V=getCentroids(X-B,U,alpha,ngb,m)\n",
    "        #B=getB(X,U,V,alpha,m,ngb)\n",
    "        ind+=1\n",
    "    print(ind)\n",
    "    return U,V    "
   ]
  },
  {
   "cell_type": "code",
   "execution_count": 11,
   "metadata": {},
   "outputs": [],
   "source": [
    "def printImg(img):\n",
    "    plt.imshow(img,cmap='gray')\n",
    "    plt.show()\n",
    "    \n",
    "def GetImg(FileName):\n",
    "    import os\n",
    "    cwd = os.getcwd()\n",
    "    img = cv2.imread(cwd+'\\\\Img\\\\'+FileName, cv2.IMREAD_GRAYSCALE)\n",
    "    return img\n",
    "\n",
    "def GetMap(U):\n",
    "    Map=(U==numpy.amax(U,axis=(0))).astype(int)\n",
    "    return Map\n",
    "\n",
    "def GetGroundTurthMaps(FileName='NewImg2.tiff'):\n",
    "    import os\n",
    "    cwd = os.getcwd()\n",
    "    img1 = GetImg(FileName)\n",
    "    uniq=np.unique(img1)\n",
    "    uniq.sort()\n",
    "    Map=[]\n",
    "    for i in range(uniq.size):\n",
    "        Map.append(img1==uniq[i])\n",
    "    return nd(Map),uniq,img1\n",
    "\n",
    "def GetResMaps(res,getGrndTruth=0):\n",
    "    img=GetImg('NewImg2.tiff')\n",
    "    Maps=GetMap(res[0])\n",
    "    Maps=nd(Maps)\n",
    "    Avg=nd([(img*Map).sum()/Map.sum() for Map in Maps])\n",
    "    Ord=numpy.argsort(Avg)\n",
    "    Maps=Maps[Ord]\n",
    "    #Maps=Maps*Inten[:,np.newaxis,np.newaxis] #To get the colored resultant\n",
    "    return Maps"
   ]
  },
  {
   "cell_type": "code",
   "execution_count": 12,
   "metadata": {},
   "outputs": [],
   "source": [
    "def DiceScore(G,R):\n",
    "    intersectionPx=2*(G*R).sum(axis=(1,2))\n",
    "    return intersectionPx/(G+R).sum(axis=(1,2))\n",
    "def AvgSegAcc(G,R):\n",
    "    intersectionPx=(G*R).sum()\n",
    "    return intersectionPx/G.sum()\n",
    "def Scores(G,R):\n",
    "    return DiceScore(G,R),AvgSegAcc(G,R)\n",
    "\n",
    "def GetScores(FileName,G,printResMap=1):\n",
    "    res=fcm(GetImg(FileName))\n",
    "    R=GetResMaps(res)\n",
    "    if printResMap:\n",
    "        for seg in R:\n",
    "            printImg(seg)\n",
    "    return Scores(G,R)\n",
    "\n",
    "def GetAllImgScores(printResMap=0):\n",
    "    import os\n",
    "    path = os.getcwd()+'\\\\Img'\n",
    "    Files=os.listdir(path)\n",
    "    G,a,b=GetGroundTurthMaps()\n",
    "    FilesScr={}\n",
    "    for file in Files:\n",
    "        FilesScr[file]=GetScores(file,G,printResMap)\n",
    "        print(FilesScr[file])\n",
    "    return FilesScr"
   ]
  },
  {
   "cell_type": "code",
   "execution_count": 9,
   "metadata": {},
   "outputs": [
    {
     "name": "stdout",
     "output_type": "stream",
     "text": [
      "400\n",
      "(array([1., 1., 1., 1.]), 1.0)\n",
      "400\n",
      "(array([1.        , 1.        , 0.99989308, 0.99998043]), 0.9999738930659984)\n",
      "400\n",
      "(array([7.76781042e-01, 3.06896416e-01, 2.35349494e-04, 7.94571340e-01]), 0.5890246449456976)\n",
      "400\n",
      "(array([0.99990377, 0.99994895, 0.99890939, 0.99977694]), 0.999702380952381)\n",
      "400\n",
      "(array([0.99985567, 0.99992342, 0.9986529 , 0.99971823]), 0.999624060150376)\n"
     ]
    },
    {
     "data": {
      "text/plain": [
       "{'NewImg2.tiff': (array([1., 1., 1., 1.]), 1.0),\n",
       " 'NewImg2_0_001.tiff': (array([1.        , 1.        , 0.99989308, 0.99998043]),\n",
       "  0.9999738930659984),\n",
       " 'NewImg2_0_002.tiff': (array([7.76781042e-01, 3.06896416e-01, 2.35349494e-04, 7.94571340e-01]),\n",
       "  0.5890246449456976),\n",
       " 'NewImg2_0_003.tiff': (array([0.99990377, 0.99994895, 0.99890939, 0.99977694]),\n",
       "  0.999702380952381),\n",
       " 'NewImg2_0_004.tiff': (array([0.99985567, 0.99992342, 0.9986529 , 0.99971823]),\n",
       "  0.999624060150376)}"
      ]
     },
     "execution_count": 9,
     "metadata": {},
     "output_type": "execute_result"
    }
   ],
   "source": [
    "GetAllImgScores()"
   ]
  },
  {
   "cell_type": "code",
   "execution_count": 14,
   "metadata": {},
   "outputs": [
    {
     "name": "stdout",
     "output_type": "stream",
     "text": [
      "400\n",
      "(array([1., 1., 1., 1.]), 1.0)\n",
      "400\n",
      "(array([1.        , 1.        , 0.99989308, 0.99998043]), 0.9999738930659984)\n",
      "400\n",
      "(array([1.        , 0.99997447, 0.99918734, 0.99984738]), 0.9997963659147869)\n",
      "400\n",
      "(array([0.99990377, 0.99994895, 0.99890939, 0.99977694]), 0.999702380952381)\n",
      "400\n",
      "(array([0.99985567, 0.99992342, 0.9986529 , 0.99971823]), 0.999624060150376)\n"
     ]
    },
    {
     "data": {
      "text/plain": [
       "{'NewImg2.tiff': (array([1., 1., 1., 1.]), 1.0),\n",
       " 'NewImg2_0_001.tiff': (array([1.        , 1.        , 0.99989308, 0.99998043]),\n",
       "  0.9999738930659984),\n",
       " 'NewImg2_0_002.tiff': (array([1.        , 0.99997447, 0.99918734, 0.99984738]),\n",
       "  0.9997963659147869),\n",
       " 'NewImg2_0_003.tiff': (array([0.99990377, 0.99994895, 0.99890939, 0.99977694]),\n",
       "  0.999702380952381),\n",
       " 'NewImg2_0_004.tiff': (array([0.99985567, 0.99992342, 0.9986529 , 0.99971823]),\n",
       "  0.999624060150376)}"
      ]
     },
     "execution_count": 14,
     "metadata": {},
     "output_type": "execute_result"
    }
   ],
   "source": [
    "GetAllImgScores()"
   ]
  },
  {
   "cell_type": "code",
   "execution_count": null,
   "metadata": {},
   "outputs": [],
   "source": []
  }
 ],
 "metadata": {
  "kernelspec": {
   "display_name": "Python 3",
   "language": "python",
   "name": "python3"
  },
  "language_info": {
   "codemirror_mode": {
    "name": "ipython",
    "version": 3
   },
   "file_extension": ".py",
   "mimetype": "text/x-python",
   "name": "python",
   "nbconvert_exporter": "python",
   "pygments_lexer": "ipython3",
   "version": "3.7.3"
  }
 },
 "nbformat": 4,
 "nbformat_minor": 2
}
